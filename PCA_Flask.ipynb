{
 "cells": [
  {
   "cell_type": "code",
   "execution_count": 1,
   "metadata": {},
   "outputs": [],
   "source": [
    "from flask import Flask,request,render_template\n",
    "import numpy as np\n",
    "import pandas as pd\n",
    "import pickle\n",
    "import os\n",
    "app = Flask(__name__)\n",
    "model = pickle.load(open(\"C:/Users/ramya kuadarvalli/Desktop/power_consumption/Flask/PCA_model.pkl\", 'rb'))\n",
    "@app.route('/')\n",
    "def home():\n",
    "    return render_template(\"pca.html\")\n",
    "@app.route('/predict',methods=[\"POST\",\"GET\"])\n",
    "\n",
    "def predict():\n",
    "    input_features = [float(x) for x in request.form.values()]\n",
    "    features_value = [np.array(input_features)]\n",
    "    \n",
    "    features_name = ['Global_reactive_power', 'Global_intensity', 'Sub_metering_1',\n",
    "                     \n",
    "       'Sub_metering_2', 'Sub_metering_3']\n",
    "    \n",
    "    df = pd.DataFrame(features_value, columns=features_name)\n",
    "    output = model.predict(df)\n",
    "        \n",
    "\n",
    "    return render_template('result1.html', prediction_text=output)\n"
   ]
  },
  {
   "cell_type": "code",
   "execution_count": null,
   "metadata": {},
   "outputs": [
    {
     "name": "stdout",
     "output_type": "stream",
     "text": [
      " * Serving Flask app \"__main__\" (lazy loading)\n",
      " * Environment: production\n",
      "   WARNING: Do not use the development server in a production environment.\n",
      "   Use a production WSGI server instead.\n",
      " * Debug mode: off\n"
     ]
    },
    {
     "name": "stderr",
     "output_type": "stream",
     "text": [
      " * Running on http://127.0.0.1:5000/ (Press CTRL+C to quit)\n",
      "127.0.0.1 - - [25/Feb/2021 15:52:55] \"\u001b[37mGET / HTTP/1.1\u001b[0m\" 200 -\n",
      "127.0.0.1 - - [25/Feb/2021 15:52:55] \"\u001b[37mGET /static/PCA.jpg HTTP/1.1\u001b[0m\" 200 -\n",
      "127.0.0.1 - - [25/Feb/2021 15:52:55] \"\u001b[33mGET /favicon.ico HTTP/1.1\u001b[0m\" 404 -\n",
      "127.0.0.1 - - [25/Feb/2021 15:54:25] \"\u001b[37mPOST /predict HTTP/1.1\u001b[0m\" 200 -\n"
     ]
    }
   ],
   "source": [
    "if __name__==\"__main__\":\n",
    "    #port = int(os.getenv('PORT', 8080))\n",
    "    #app.run(host='0.0.0.0', port=port, debug=False)\n",
    "    app.run(debug=False)"
   ]
  },
  {
   "cell_type": "code",
   "execution_count": null,
   "metadata": {},
   "outputs": [],
   "source": []
  },
  {
   "cell_type": "code",
   "execution_count": null,
   "metadata": {},
   "outputs": [],
   "source": []
  },
  {
   "cell_type": "code",
   "execution_count": null,
   "metadata": {},
   "outputs": [],
   "source": []
  }
 ],
 "metadata": {
  "kernelspec": {
   "display_name": "Python 3",
   "language": "python",
   "name": "python3"
  },
  "language_info": {
   "codemirror_mode": {
    "name": "ipython",
    "version": 3
   },
   "file_extension": ".py",
   "mimetype": "text/x-python",
   "name": "python",
   "nbconvert_exporter": "python",
   "pygments_lexer": "ipython3",
   "version": "3.7.1"
  }
 },
 "nbformat": 4,
 "nbformat_minor": 2
}
